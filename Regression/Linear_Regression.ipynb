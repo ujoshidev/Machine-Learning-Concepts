{
  "nbformat": 4,
  "nbformat_minor": 0,
  "metadata": {
    "colab": {
      "name": "Linear Regression",
      "provenance": [],
      "authorship_tag": "ABX9TyN7LDzNb41yB3D2nEkJzfMy"
    },
    "kernelspec": {
      "name": "python3",
      "display_name": "Python 3"
    },
    "language_info": {
      "name": "python"
    }
  },
  "cells": [
    {
      "cell_type": "markdown",
      "metadata": {
        "id": "uSXAgoHLWF2l"
      },
      "source": [
        "# Linear Regression"
      ]
    },
    {
      "cell_type": "markdown",
      "metadata": {
        "id": "_y1NCy1yWImC"
      },
      "source": [
        "## Problem Statement"
      ]
    },
    {
      "cell_type": "markdown",
      "metadata": {
        "id": "BE43wmCUXSGM"
      },
      "source": [
        "A spermarket chain in India is starting preparation before the Diwali kicks in. They want:\n",
        "1.   to estimate which product will sell like hotcakes and which would not prior to the purchase.\n",
        "2.   to estimate the sales of products across a range of different categories for stores in varied locations and with consumers having different consumption techniques."
      ]
    },
    {
      "cell_type": "code",
      "metadata": {
        "id": "Z-2RnQOJWBuH"
      },
      "source": [
        ""
      ],
      "execution_count": null,
      "outputs": []
    }
  ]
}